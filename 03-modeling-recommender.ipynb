{
 "cells": [
  {
   "cell_type": "code",
   "execution_count": 15,
   "id": "6b474394-a6f8-4f8d-b05d-8d3942e0a91e",
   "metadata": {},
   "outputs": [],
   "source": [
    "# Import the necessary libraries\n",
    "import pandas as pd\n",
    "from sklearn.metrics.pairwise import cosine_similarity\n",
    "from sklearn.preprocessing import LabelEncoder, StandardScaler\n",
    "from sklearn.neighbors import NearestNeighbors"
   ]
  },
  {
   "cell_type": "code",
   "execution_count": null,
   "id": "74255351-f686-4604-83b2-46fe180e444d",
   "metadata": {},
   "outputs": [],
   "source": [
    "df = pd.read_csv('data/car.csv')\n",
    "\n",
    "le = LabelEncoder()\n",
    "ss = StandardScaler()"
   ]
  },
  {
   "cell_type": "code",
   "execution_count": null,
   "id": "7d36df8a-e11a-477e-b7e9-22afc4e7de12",
   "metadata": {},
   "outputs": [],
   "source": [
    "df['name'] = le.fit_transform(df['name'])\n",
    "df['make'] = le.fit_transform(df['make'])\n",
    "df['drive_type'] = le.fit_transform(df['drive_type'])\n",
    "df['transmission'] = le.fit_transform(df['transmission'])\n",
    "df['type'] = le.fit_transform(df['type'])\n",
    "\n",
    "# Scale continuous variables\n",
    "df['year'] = ss.fit_transform(df[['year']])\n",
    "df['msrp'] = ss.fit_transform(df[['msrp']])\n",
    "\n",
    "# Now that we have cleaned and processed our data, we can calculate cosine similarities\n",
    "# As the data now only contains numbers, we can easily calculate cosine similarities.\n",
    "\n",
    "# Use NearestNeighbors from sklearn to find similar items\n",
    "model_knn = NearestNeighbors(metric='cosine', algorithm='brute')\n",
    "model_knn.fit(df.values)\n",
    "\n",
    "# Create a function to return recommended cars\n",
    "def recommend_car(name):\n",
    "    # Get the car index\n",
    "    car_index = df[df.name == name].index[0]\n",
    "    # Get the list of cars and their distance\n",
    "    distances, indices = model_knn.kneighbors(df.iloc[car_index, :].values.reshape(1, -1), n_neighbors = 6)\n",
    "\n",
    "    # Get the list of similar cars\n",
    "    similar_cars = []\n",
    "    for i in range(0, len(distances.flatten())):\n",
    "        if i == 0:\n",
    "            print('Recommendations for {0}:\\n'.format(df[df.index == car_index]['name']))\n",
    "        else:\n",
    "            similar_cars.append(df[df.index == indices.flatten()[i]]['name'])\n",
    "\n",
    "    return similar_cars\n"
   ]
  },
  {
   "cell_type": "code",
   "execution_count": 14,
   "id": "fb860cce-cb51-4c12-99db-31f3e2ed7552",
   "metadata": {},
   "outputs": [
    {
     "name": "stdout",
     "output_type": "stream",
     "text": [
      "The car name 'Enclave' does not exist in the dataset.\n"
     ]
    }
   ],
   "source": [
    "car_name = 'Enclave'  # Replace this with any car name from your dataset\n",
    "\n",
    "if car_name in encoder.classes_:\n",
    "    encoded_car_name = encoder.transform([car_name])\n",
    "    # Now you can pass the encoded name to the recommend_car function\n",
    "    recommend_car(encoded_car_name[0])\n",
    "else:\n",
    "    print(f\"The car name '{car_name}' does not exist in the dataset.\")"
   ]
  },
  {
   "cell_type": "code",
   "execution_count": null,
   "id": "80372779-afd2-45ab-a2b7-4ba504e67e28",
   "metadata": {},
   "outputs": [],
   "source": []
  }
 ],
 "metadata": {
  "kernelspec": {
   "display_name": "Python 3 (ipykernel)",
   "language": "python",
   "name": "python3"
  },
  "language_info": {
   "codemirror_mode": {
    "name": "ipython",
    "version": 3
   },
   "file_extension": ".py",
   "mimetype": "text/x-python",
   "name": "python",
   "nbconvert_exporter": "python",
   "pygments_lexer": "ipython3",
   "version": "3.10.9"
  }
 },
 "nbformat": 4,
 "nbformat_minor": 5
}
